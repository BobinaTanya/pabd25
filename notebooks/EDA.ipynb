{
 "cells": [
  {
   "cell_type": "code",
   "execution_count": 11,
   "id": "01c788e4",
   "metadata": {},
   "outputs": [],
   "source": [
    "import pandas as pd\n",
    "import glob \n",
    "import matplotlib.pyplot as plt\n",
    "import numpy as np\n",
    "  \n",
    "raw_data_path = '../data/raw'\n",
    "file_list = glob.glob(raw_data_path + \"/*.csv\")"
   ]
  },
  {
   "cell_type": "code",
   "execution_count": 12,
   "id": "a772c067",
   "metadata": {},
   "outputs": [
    {
     "data": {
      "text/plain": [
       "['../data/raw\\\\1-2-3-room_2025-05-05_19-58.csv']"
      ]
     },
     "execution_count": 12,
     "metadata": {},
     "output_type": "execute_result"
    }
   ],
   "source": [
    "file_list"
   ]
  },
  {
   "cell_type": "code",
   "execution_count": 18,
   "id": "df496eac",
   "metadata": {},
   "outputs": [
    {
     "name": "stdout",
     "output_type": "stream",
     "text": [
      "<class 'pandas.core.frame.DataFrame'>\n",
      "RangeIndex: 1689 entries, 0 to 1688\n",
      "Data columns (total 18 columns):\n",
      " #   Column               Non-Null Count  Dtype  \n",
      "---  ------               --------------  -----  \n",
      " 0   author               1689 non-null   object \n",
      " 1   author_type          1689 non-null   object \n",
      " 2   url                  1689 non-null   object \n",
      " 3   location             1689 non-null   object \n",
      " 4   deal_type            1689 non-null   object \n",
      " 5   accommodation_type   1689 non-null   object \n",
      " 6   floor                1689 non-null   int64  \n",
      " 7   floors_count         1689 non-null   int64  \n",
      " 8   rooms_count          1689 non-null   int64  \n",
      " 9   total_meters         1689 non-null   float64\n",
      " 10  price_per_month      1689 non-null   int64  \n",
      " 11  commissions          1689 non-null   int64  \n",
      " 12  price                1689 non-null   int64  \n",
      " 13  district             1559 non-null   object \n",
      " 14  street               1665 non-null   object \n",
      " 15  house_number         1680 non-null   object \n",
      " 16  underground          1681 non-null   object \n",
      " 17  residential_complex  992 non-null    object \n",
      "dtypes: float64(1), int64(6), object(11)\n",
      "memory usage: 237.6+ KB\n"
     ]
    }
   ],
   "source": [
    "main_dataframe.info()"
   ]
  },
  {
   "cell_type": "code",
   "execution_count": 19,
   "id": "56a37a72",
   "metadata": {},
   "outputs": [],
   "source": [
    "main_dataframe = pd.read_csv(file_list[0])\n",
    "for i in range(1, len(file_list)): \n",
    "    data = pd.read_csv(file_list[i]) \n",
    "    df = pd.DataFrame(data) \n",
    "    main_dataframe = pd.concat([main_dataframe, df], axis=0)"
   ]
  },
  {
   "cell_type": "code",
   "execution_count": 20,
   "id": "8fb810e5",
   "metadata": {},
   "outputs": [],
   "source": [
    "main_dataframe['url_id'] = main_dataframe['url'].map(lambda x: x.split('/')[-2])\n",
    "new_dataframe = main_dataframe[['url_id', 'total_meters', 'price']].set_index('url_id')"
   ]
  },
  {
   "cell_type": "code",
   "execution_count": 21,
   "id": "670d2905",
   "metadata": {},
   "outputs": [
    {
     "data": {
      "text/plain": [
       "<Axes: >"
      ]
     },
     "execution_count": 21,
     "metadata": {},
     "output_type": "execute_result"
    },
    {
     "data": {
      "image/png": "[encoded data removed]",
      "text/plain": [
       "<Figure size 640x480 with 1 Axes>"
      ]
     },
     "metadata": {},
     "output_type": "display_data"
    }
   ],
   "source": [
    "new_dataframe['price'].hist()"
   ]
  },
  {
   "cell_type": "code",
   "execution_count": 22,
   "id": "ee65cb98",
   "metadata": {},
   "outputs": [],
   "source": [
    "new_df = new_dataframe[new_dataframe['price'] < 100_000_000]"
   ]
  },
  {
   "cell_type": "code",
   "execution_count": 23,
   "id": "c76d95ac",
   "metadata": {},
   "outputs": [
    {
     "data": {
      "text/html": [
       "<div>\n",
       "<style scoped>\n",
       "    .dataframe tbody tr th:only-of-type {\n",
       "        vertical-align: middle;\n",
       "    }\n",
       "\n",
       "    .dataframe tbody tr th {\n",
       "        vertical-align: top;\n",
       "    }\n",
       "\n",
       "    .dataframe thead th {\n",
       "        text-align: right;\n",
       "    }\n",
       "</style>\n",
       "<table border=\"1\" class=\"dataframe\">\n",
       "  <thead>\n",
       "    <tr style=\"text-align: right;\">\n",
       "      <th></th>\n",
       "      <th>total_meters</th>\n",
       "      <th>price</th>\n",
       "    </tr>\n",
       "    <tr>\n",
       "      <th>url_id</th>\n",
       "      <th></th>\n",
       "      <th></th>\n",
       "    </tr>\n",
       "  </thead>\n",
       "  <tbody>\n",
       "    <tr>\n",
       "      <th>315747133</th>\n",
       "      <td>32.0</td>\n",
       "      <td>13590000</td>\n",
       "    </tr>\n",
       "    <tr>\n",
       "      <th>314702076</th>\n",
       "      <td>41.0</td>\n",
       "      <td>22600000</td>\n",
       "    </tr>\n",
       "    <tr>\n",
       "      <th>315253252</th>\n",
       "      <td>79.0</td>\n",
       "      <td>75000000</td>\n",
       "    </tr>\n",
       "    <tr>\n",
       "      <th>313640113</th>\n",
       "      <td>40.1</td>\n",
       "      <td>35500000</td>\n",
       "    </tr>\n",
       "    <tr>\n",
       "      <th>286050252</th>\n",
       "      <td>42.5</td>\n",
       "      <td>7150000</td>\n",
       "    </tr>\n",
       "    <tr>\n",
       "      <th>...</th>\n",
       "      <td>...</td>\n",
       "      <td>...</td>\n",
       "    </tr>\n",
       "    <tr>\n",
       "      <th>309347303</th>\n",
       "      <td>90.1</td>\n",
       "      <td>67400000</td>\n",
       "    </tr>\n",
       "    <tr>\n",
       "      <th>314669483</th>\n",
       "      <td>117.0</td>\n",
       "      <td>65000000</td>\n",
       "    </tr>\n",
       "    <tr>\n",
       "      <th>314118729</th>\n",
       "      <td>130.0</td>\n",
       "      <td>61900000</td>\n",
       "    </tr>\n",
       "    <tr>\n",
       "      <th>316565559</th>\n",
       "      <td>67.1</td>\n",
       "      <td>50000000</td>\n",
       "    </tr>\n",
       "    <tr>\n",
       "      <th>314118560</th>\n",
       "      <td>131.0</td>\n",
       "      <td>63700000</td>\n",
       "    </tr>\n",
       "  </tbody>\n",
       "</table>\n",
       "<p>1491 rows × 2 columns</p>\n",
       "</div>"
      ],
      "text/plain": [
       "           total_meters     price\n",
       "url_id                           \n",
       "315747133          32.0  13590000\n",
       "314702076          41.0  22600000\n",
       "315253252          79.0  75000000\n",
       "313640113          40.1  35500000\n",
       "286050252          42.5   7150000\n",
       "...                 ...       ...\n",
       "309347303          90.1  67400000\n",
       "314669483         117.0  65000000\n",
       "314118729         130.0  61900000\n",
       "316565559          67.1  50000000\n",
       "314118560         131.0  63700000\n",
       "\n",
       "[1491 rows x 2 columns]"
      ]
     },
     "execution_count": 23,
     "metadata": {},
     "output_type": "execute_result"
    }
   ],
   "source": [
    "new_df"
   ]
  },
  {
   "cell_type": "code",
   "execution_count": 24,
   "id": "aae7a6fa",
   "metadata": {},
   "outputs": [
    {
     "data": {
      "text/plain": [
       "[<matplotlib.lines.Line2D at 0x219c4d08c50>]"
      ]
     },
     "execution_count": 24,
     "metadata": {},
     "output_type": "execute_result"
    },
    {
     "data": {
      "image/png": "[encoded data removed]",
      "text/plain": [
       "<Figure size 640x480 with 1 Axes>"
      ]
     },
     "metadata": {},
     "output_type": "display_data"
    }
   ],
   "source": [
    "x = new_df['total_meters']\n",
    "y = new_df['price']\n",
    "\n",
    "plt.plot(x, y, 'o')\n",
    "\n",
    "#obtain m (slope) and b(intercept) of linear regression line\n",
    "m, b = np.polyfit(x, y, 1)\n",
    "\n",
    "#add linear regression line to scatterplot \n",
    "plt.plot(x, m*x+b)"
   ]
  },
  {
   "cell_type": "code",
   "execution_count": null,
   "id": "2203161d",
   "metadata": {},
   "outputs": [],
   "source": []
  }
 ],
 "metadata": {
  "kernelspec": {
   "display_name": "env",
   "language": "python",
   "name": "python3"
  },
  "language_info": {
   "codemirror_mode": {
    "name": "ipython",
    "version": 3
   },
   "file_extension": ".py",
   "mimetype": "text/x-python",
   "name": "python",
   "nbconvert_exporter": "python",
   "pygments_lexer": "ipython3",
   "version": "3.11.9"
  }
 },
 "nbformat": 4,
 "nbformat_minor": 5
}
